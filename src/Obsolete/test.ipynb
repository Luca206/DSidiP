{
 "cells": [
  {
   "cell_type": "code",
   "execution_count": 2,
   "metadata": {},
   "outputs": [
    {
     "data": {
      "text/plain": [
       "'hi'"
      ]
     },
     "execution_count": 2,
     "metadata": {},
     "output_type": "execute_result"
    }
   ],
   "source": [
    "a =\"hi\"\n",
    "a"
   ]
  },
  {
   "cell_type": "code",
   "execution_count": 3,
   "metadata": {},
   "outputs": [
    {
     "name": "stdout",
     "output_type": "stream",
     "text": [
      "Collecting ids_peak_ipl\n",
      "  Downloading ids_peak_ipl-1.13.0.0.2-cp39-cp39-win_amd64.whl (6.5 MB)\n",
      "Requirement already satisfied: numpy in c:\\users\\wchri\\anaconda3\\lib\\site-packages (from ids_peak_ipl) (1.20.3)\n",
      "Installing collected packages: ids-peak-ipl\n",
      "Successfully installed ids-peak-ipl-1.13.0.0.2\n",
      "Note: you may need to restart the kernel to use updated packages.\n"
     ]
    }
   ],
   "source": [
    "%pip install ids_peak_ipl"
   ]
  },
  {
   "cell_type": "code",
   "execution_count": 4,
   "metadata": {},
   "outputs": [
    {
     "name": "stdout",
     "output_type": "stream",
     "text": [
      "Collecting ids_peak\n",
      "  Downloading ids_peak-1.9.0.0.2-cp37-abi3-win_amd64.whl (3.7 MB)\n",
      "Requirement already satisfied: ids-peak-ipl<2,>=1.13.0.0 in c:\\users\\wchri\\anaconda3\\lib\\site-packages (from ids_peak) (1.13.0.0.2)\n",
      "Requirement already satisfied: numpy in c:\\users\\wchri\\anaconda3\\lib\\site-packages (from ids-peak-ipl<2,>=1.13.0.0->ids_peak) (1.20.3)\n",
      "Installing collected packages: ids-peak\n",
      "Successfully installed ids-peak-1.9.0.0.2\n",
      "Note: you may need to restart the kernel to use updated packages.\n"
     ]
    }
   ],
   "source": [
    "%pip install ids_peak"
   ]
  },
  {
   "cell_type": "code",
   "execution_count": 1,
   "metadata": {},
   "outputs": [
    {
     "name": "stdout",
     "output_type": "stream",
     "text": [
      "Collecting pyueye\n",
      "  Downloading pyueye-4.96.952-py2.py3-none-any.whl (57 kB)\n",
      "Collecting enum-compat\n",
      "  Downloading enum_compat-0.0.3-py3-none-any.whl (1.3 kB)\n",
      "Installing collected packages: enum-compat, pyueye\n",
      "Successfully installed enum-compat-0.0.3 pyueye-4.96.952\n",
      "Note: you may need to restart the kernel to use updated packages.\n"
     ]
    }
   ],
   "source": [
    "%pip install pyueye"
   ]
  }
 ],
 "metadata": {
  "kernelspec": {
   "display_name": "base",
   "language": "python",
   "name": "python3"
  },
  "language_info": {
   "codemirror_mode": {
    "name": "ipython",
    "version": 3
   },
   "file_extension": ".py",
   "mimetype": "text/x-python",
   "name": "python",
   "nbconvert_exporter": "python",
   "pygments_lexer": "ipython3",
   "version": "3.9.7"
  }
 },
 "nbformat": 4,
 "nbformat_minor": 2
}
