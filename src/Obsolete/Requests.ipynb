{
 "cells": [
  {
   "cell_type": "code",
   "execution_count": 1,
   "metadata": {},
   "outputs": [],
   "source": [
    "import requests\n",
    "import numpy as np\n",
    "import cv2\n",
    "from matplotlib import pyplot as plt\n",
    "import ContourMethoden"
   ]
  },
  {
   "cell_type": "code",
   "execution_count": null,
   "metadata": {},
   "outputs": [],
   "source": [
    "def sendFile(img):\n",
    "    url = 'http://localhost:8000/upload/'\n",
    "    myobj = img\n",
    "\n",
    "    x = requests.post(url, json = myobj)\n",
    "\n",
    "    print(x.text)\n",
    "    return 'imgage send'"
   ]
  },
  {
   "cell_type": "code",
   "execution_count": null,
   "metadata": {},
   "outputs": [],
   "source": [
    "def getFile():\n",
    "    url = 'http://localhost:8000/download/1'\n",
    "\n",
    "    img = requests.get(url)\n",
    "\n",
    "    print(img)\n",
    "    return img"
   ]
  },
  {
   "cell_type": "code",
   "execution_count": null,
   "metadata": {},
   "outputs": [],
   "source": [
    "cap = cv2.VideoCapture('test.jpg')\n",
    "ret, image = cap.read()\n",
    "\n",
    "print(ret)\n",
    "\n",
    "Konturs = ContourMethoden.getContours(image)\n",
    "\n",
    "\n",
    "plt.figure(figsize = (15,15))\n",
    "plt.imshow(image)"
   ]
  },
  {
   "cell_type": "code",
   "execution_count": null,
   "metadata": {},
   "outputs": [],
   "source": [
    "sendFile(image)\n",
    "\n",
    "img = getFile\n",
    "\n",
    "plt.figure(figsize = (15,15))\n",
    "plt.imshow(image)"
   ]
  }
 ],
 "metadata": {
  "kernelspec": {
   "display_name": "base",
   "language": "python",
   "name": "python3"
  },
  "language_info": {
   "codemirror_mode": {
    "name": "ipython",
    "version": 3
   },
   "file_extension": ".py",
   "mimetype": "text/x-python",
   "name": "python",
   "nbconvert_exporter": "python",
   "pygments_lexer": "ipython3",
   "version": "3.9.7"
  }
 },
 "nbformat": 4,
 "nbformat_minor": 2
}
