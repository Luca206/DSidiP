{
 "cells": [
  {
   "cell_type": "markdown",
   "metadata": {},
   "source": [
    "# Methoden für den Abgleich Contouren der Teile mit einer Datenank\n",
    "# Diese Idee wurde aber verworfen"
   ]
  },
  {
   "cell_type": "code",
   "execution_count": null,
   "metadata": {},
   "outputs": [],
   "source": [
    "from typing import Dict, Any, List\n",
    "from utils_camera import Camera\n",
    "#from event_topics import EventTopics, create_event, EventType, ErrorEventCodes, Metadata, ProgressEventCodes, SuccessEventCodes\n",
    "from datetime import datetime\n",
    "from utils import ContourProcessor\n",
    "#from models import ModelRegistry\n",
    "import numpy as np\n",
    "import cv2\n",
    "from scipy.cluster.hierarchy import linkage, fcluster\n",
    "from scipy.spatial.distance import pdist"
   ]
  },
  {
   "cell_type": "code",
   "execution_count": null,
   "metadata": {},
   "outputs": [],
   "source": [
    "def compare_contour_to_database(self, obj):\n",
    "        self.timer.start(\"compare_contour_to_database\")\n",
    "        contours = self.extract_contours_from_obj(obj)\n",
    "        if not contours:\n",
    "            return [], self.timer.stop(\"compare_contour_to_database\")\n",
    "        \n",
    "        db_contours = self.loader.get_filtered_contours()\n",
    "        diffs_and_tiles = []\n",
    "\n",
    "        for tile_data in db_contours:\n",
    "            db_contour_points = tile_data[\"points\"]\n",
    "            db_contour = ContourProcessor.format_contours_for_opencv(db_contour_points)\n",
    "            for pred_contour in contours:\n",
    "                cont_diff = cv2.matchShapes(pred_contour, db_contour, cv2.CONTOURS_MATCH_I1, 0)\n",
    "                if cont_diff < self.similarity_threshold:\n",
    "                    # Ensure that the form of the data is correct\n",
    "                    tile_info = (cont_diff, tile_data[\"tileId\"], tile_data[\"materialId\"], tile_data[\"tileLabel\"])\n",
    "                    diffs_and_tiles.append((cont_diff, tile_data[\"tileId\"], tile_data[\"materialId\"], tile_data[\"tileLabel\"]))\n",
    "\n",
    "        identified_tiles = self.cluster_and_identify(diffs_and_tiles)\n",
    "        return identified_tiles, self.timer.stop(\"compare_contour_to_database\")"
   ]
  },
  {
   "cell_type": "code",
   "execution_count": null,
   "metadata": {},
   "outputs": [],
   "source": [
    "def extract_contours_from_obj(self, obj):\n",
    "        surfaces = obj.get(\"surface\", [])\n",
    "        if not surfaces or not surfaces[0].get(\"contours\"):\n",
    "            return []\n",
    "\n",
    "        raw_contours = surfaces[0].get(\"contours\", [])\n",
    "        formatted_contours = [ContourProcessor.format_contours_for_opencv(contour) for contour in raw_contours]\n",
    "        return formatted_contours"
   ]
  },
  {
   "cell_type": "code",
   "execution_count": null,
   "metadata": {},
   "outputs": [],
   "source": [
    "def cluster_and_identify(self, diffs_and_tiles):\n",
    "        if not diffs_and_tiles:\n",
    "            return []\n",
    "\n",
    "        if len(diffs_and_tiles) == 1:\n",
    "            cont_diff, tileID, materialID, tileLabel = diffs_and_tiles[0]\n",
    "            return [{\"tileId\": tileID, \"materialId\": materialID, \"tileLabel\": tileLabel}]\n",
    "\n",
    "        diffs, tileIDs, materialIDs, tileLabels = zip(*diffs_and_tiles)\n",
    "        Y = pdist(np.array(diffs).reshape(-1, 1), 'euclidean')\n",
    "        Z = linkage(Y, 'ward')\n",
    "        clusters = fcluster(Z, self.clustering_distance, criterion='distance')\n",
    "\n",
    "        cluster_avg_diffs = {}\n",
    "        for cluster_id in set(clusters):\n",
    "            indices = np.where(clusters == cluster_id)[0]\n",
    "            avg_diff = np.mean([diffs[i] for i in indices])\n",
    "            cluster_avg_diffs[cluster_id] = avg_diff\n",
    "\n",
    "        lowest_avg_diff_cluster = min(cluster_avg_diffs, key=cluster_avg_diffs.get)\n",
    "        indices = np.where(clusters == lowest_avg_diff_cluster)[0]\n",
    "\n",
    "        identified_tiles = [{\"tileId\": tileIDs[i], \"materialId\": materialIDs[i], \"tileLabel\": tileLabels[i]} for i in indices]\n",
    "        return identified_tiles"
   ]
  }
 ],
 "metadata": {
  "kernelspec": {
   "display_name": "base",
   "language": "python",
   "name": "python3"
  },
  "language_info": {
   "name": "python",
   "version": "3.9.7"
  }
 },
 "nbformat": 4,
 "nbformat_minor": 2
}
